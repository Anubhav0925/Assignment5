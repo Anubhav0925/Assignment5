{
 "cells": [
  {
   "cell_type": "markdown",
   "id": "b5c2247a-649c-4dc4-9853-b309107aa3ae",
   "metadata": {},
   "source": [
    "Answere1:-"
   ]
  },
  {
   "cell_type": "code",
   "execution_count": 4,
   "id": "fc504a57-6c66-4593-8736-59ce05321d3c",
   "metadata": {},
   "outputs": [
    {
     "name": "stdin",
     "output_type": "stream",
     "text": [
      "Enter the Percentage :  55\n"
     ]
    },
    {
     "name": "stdout",
     "output_type": "stream",
     "text": [
      "Grade D\n"
     ]
    }
   ],
   "source": [
    "Marks = int(input(\"Enter the Percentage : \"))\n",
    "if Marks >90:\n",
    "    print(\"Grade A\")\n",
    "elif  80<Marks<=90:\n",
    "    print(\"Grade B\")\n",
    "elif 60<=Marks<=80:\n",
    "    print(\"Grade C\")\n",
    "else:\n",
    "    print(\"Grade D\")"
   ]
  },
  {
   "cell_type": "markdown",
   "id": "45e9e03d-64ec-46da-93c9-8c840d3e4526",
   "metadata": {},
   "source": [
    "Answere2:- "
   ]
  },
  {
   "cell_type": "code",
   "execution_count": 16,
   "id": "aadd173d-d1bc-4e8c-aaa1-ac03b30deead",
   "metadata": {},
   "outputs": [
    {
     "name": "stdin",
     "output_type": "stream",
     "text": [
      "Enter the cost price of bike : 54000\n"
     ]
    },
    {
     "name": "stdout",
     "output_type": "stream",
     "text": [
      "Road_Tax of bike is 10%\n"
     ]
    }
   ],
   "source": [
    "Cost_Price = int(input(\"Enter the cost price of bike :\"))\n",
    "\n",
    "if Cost_Price>100000:\n",
    "    print(\"Road_Tax of bike is 15%\")\n",
    "elif 50000<Cost_Price<= 100000:\n",
    "    print(\"Road_Tax of bike is 10%\")\n",
    "else :\n",
    "    print(\"Road_Tax of bike is 5%\")\n",
    "    "
   ]
  },
  {
   "cell_type": "markdown",
   "id": "411c1d6e-3460-4479-89d1-308290d19769",
   "metadata": {},
   "source": [
    "Answere3:-"
   ]
  },
  {
   "cell_type": "code",
   "execution_count": 8,
   "id": "a270bea5-84f6-48e6-b95b-a59549b4aaf8",
   "metadata": {},
   "outputs": [
    {
     "name": "stdin",
     "output_type": "stream",
     "text": [
      "Enter the City: Delhi\n"
     ]
    },
    {
     "name": "stdout",
     "output_type": "stream",
     "text": [
      "Monument : Red Fort\n"
     ]
    }
   ],
   "source": [
    "city = input(\"Enter the City:\")\n",
    "\n",
    "if city == \"Delhi\":\n",
    "    print(\"Monument : Red Fort\")\n",
    "elif city == \"Agra\":\n",
    "    print(\"Monument : Taj Mahal\")\n",
    "else :\n",
    "    print(\"Monument : Jal Mahal\")\n"
   ]
  },
  {
   "cell_type": "code",
   "execution_count": null,
   "id": "0fe69b8d-78df-4304-a2a8-32b88d14b2b7",
   "metadata": {},
   "outputs": [],
   "source": [
    "Answere4:-"
   ]
  },
  {
   "cell_type": "code",
   "execution_count": 9,
   "id": "fd50d570-6890-44fd-a83d-8b8e539d8673",
   "metadata": {},
   "outputs": [
    {
     "name": "stdin",
     "output_type": "stream",
     "text": [
      "Enter the number : 25\n"
     ]
    },
    {
     "name": "stdout",
     "output_type": "stream",
     "text": [
      "This number can be divided by 3 in  8  times\n"
     ]
    }
   ],
   "source": [
    "num = int(input(\"Enter the number :\"))\n",
    "x = int(num/3)\n",
    "if x <=10:\n",
    "    print(\"This number can be divided by 3 in \",x,\" times\")\n",
    "else:\n",
    "    print(\"This number can be divided by 3 in greater than 10 times \")"
   ]
  },
  {
   "cell_type": "markdown",
   "id": "c457e808-7d5b-4d9c-ba47-e89b235c4856",
   "metadata": {},
   "source": [
    "Answere5:-"
   ]
  },
  {
   "cell_type": "markdown",
   "id": "2095c087-574b-4b4a-b47b-34ea0fc6a150",
   "metadata": {},
   "source": [
    "Python While Loop is used to execute a block of statements repeatedly until a given condition is satisfied. And when the condition becomes false, the line immediately after the loop in the program is executed.\n",
    "While loop falls under the category of indefinite iteration. Indefinite iteration means that the number of times the loop is executed isn’t specified explicitly in advance. While loop falls under the category of indefinite iteration. Indefinite iteration means that the number of times the loop is executed isn’t specified explicitly in advance. Statements represent all the statements indented by the same number of character spaces after a programming construct are considered to be part of a single block of code. Python uses indentation as its method of grouping statements. When a while loop is executed, expr is first evaluated in a Boolean context and if it is true, the loop body is executed. Then the expr is checked again, if it is still true then the body is executed again and this continues until the expression becomes false.\n",
    "Example:- \n",
    "count = 0\n",
    "while (count < 3):\n",
    "    count = count + 1\n",
    "    print(\"Hello Geek\")"
   ]
  },
  {
   "cell_type": "markdown",
   "id": "392d296f-8b9d-45c9-be52-725e6a3513ea",
   "metadata": {},
   "source": [
    "Answere6:-"
   ]
  },
  {
   "cell_type": "code",
   "execution_count": 10,
   "id": "118bbbcb-44a5-4e60-9eb4-f10024b119bd",
   "metadata": {},
   "outputs": [
    {
     "name": "stdin",
     "output_type": "stream",
     "text": [
      "Enter the order of patterns : 5\n"
     ]
    },
    {
     "name": "stdout",
     "output_type": "stream",
     "text": [
      "*****\n",
      "****\n",
      "***\n",
      "**\n",
      "*\n"
     ]
    }
   ],
   "source": [
    "order = int(input(\"Enter the order of patterns :\"))\n",
    "i = order\n",
    "while i> 0:\n",
    "    j = i\n",
    "    while j  > 0:\n",
    "        print(\"*\",end=\"\")\n",
    "        j= j-1\n",
    "    print(\"\")\n",
    "    i = i-1"
   ]
  },
  {
   "cell_type": "code",
   "execution_count": 11,
   "id": "bb618a51-f434-4ac6-8948-101b838d88eb",
   "metadata": {},
   "outputs": [
    {
     "name": "stdin",
     "output_type": "stream",
     "text": [
      "Enter the order of patterns : 5\n"
     ]
    },
    {
     "name": "stdout",
     "output_type": "stream",
     "text": [
      "*\n",
      "**\n",
      "***\n",
      "****\n",
      "*****\n"
     ]
    }
   ],
   "source": [
    "order = int(input(\"Enter the order of patterns :\"))\n",
    "i = 1\n",
    "while i<= order:\n",
    "    j = 1\n",
    "    while j <= i:\n",
    "        print(\"*\",end=\"\")\n",
    "        #print(j)\n",
    "        j= j+1\n",
    "    print(\"\")\n",
    "    i = i+1"
   ]
  },
  {
   "cell_type": "code",
   "execution_count": 12,
   "id": "4529e4df-8fdd-41bf-b80a-d2a043ceaa64",
   "metadata": {},
   "outputs": [
    {
     "name": "stdin",
     "output_type": "stream",
     "text": [
      "Enter the order of patterns : 5\n"
     ]
    },
    {
     "name": "stdout",
     "output_type": "stream",
     "text": [
      "     *\n",
      "    *    *\n",
      "   *   *   *\n",
      "  *  *  *  *\n",
      " * * * * *\n"
     ]
    }
   ],
   "source": [
    "order = int(input(\"Enter the order of patterns :\"))\n",
    "i = 1\n",
    "while i<= order:\n",
    "    j = 1\n",
    "    while j <= i:\n",
    "        print(\" \"*(order-i),\"*\",end=\"\")\n",
    "        #print(j)\n",
    "        j= j+1\n",
    "    print(\"\")\n",
    "    i = i+1"
   ]
  },
  {
   "cell_type": "markdown",
   "id": "da7283e7-f08d-4ba2-a667-848ed223dadb",
   "metadata": {},
   "source": [
    "Answere7:-"
   ]
  },
  {
   "cell_type": "code",
   "execution_count": 1,
   "id": "be8d8bf9-b66b-41aa-8261-b7e6a6e1254c",
   "metadata": {},
   "outputs": [
    {
     "name": "stdout",
     "output_type": "stream",
     "text": [
      "10\n",
      "9\n",
      "8\n",
      "7\n",
      "6\n",
      "5\n",
      "4\n",
      "3\n",
      "2\n",
      "1\n"
     ]
    }
   ],
   "source": [
    "a = 10\n",
    "while a>0:\n",
    "    print(a)\n",
    "    a = a-1"
   ]
  },
  {
   "cell_type": "code",
   "execution_count": null,
   "id": "2380304a-c8c3-4c25-aafe-e3976dcf0dab",
   "metadata": {},
   "outputs": [],
   "source": []
  }
 ],
 "metadata": {
  "kernelspec": {
   "display_name": "Python 3 (ipykernel)",
   "language": "python",
   "name": "python3"
  },
  "language_info": {
   "codemirror_mode": {
    "name": "ipython",
    "version": 3
   },
   "file_extension": ".py",
   "mimetype": "text/x-python",
   "name": "python",
   "nbconvert_exporter": "python",
   "pygments_lexer": "ipython3",
   "version": "3.10.8"
  }
 },
 "nbformat": 4,
 "nbformat_minor": 5
}
